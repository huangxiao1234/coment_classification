{
 "cells": [
  {
   "cell_type": "code",
   "execution_count": 92,
   "metadata": {
    "collapsed": true
   },
   "outputs": [],
   "source": [
    "import re\n",
    "import jieba\n",
    "\n",
    "f=open('pos_data.txt','r')\n",
    "comment_pos=[]#存取评论\n",
    "\n",
    "for line in f.readlines():\n",
    "    line=line.strip()\n",
    "    line=line.strip('-')\n",
    "    p=re.compile('[’!\"#$%&\\'！\\一：()*+,-./:;<=>?@[\\\\]^_`{|}~，0123456789a-zA-Z]+')#去掉标点符号数字字母等干扰项\n",
    "    line=p.sub('',line)\n",
    "    comment_pos.append(\" \".join(jieba.cut(line.split(',')[0], cut_all=False)))#为了方便转换成词序列"
   ]
  },
  {
   "cell_type": "code",
   "execution_count": 93,
   "metadata": {
    "collapsed": true
   },
   "outputs": [],
   "source": [
    "import pandas as pd\n",
    "pos_data=pd.DataFrame()\n",
    "pos_data['comment']=comment_pos"
   ]
  },
  {
   "cell_type": "code",
   "execution_count": 94,
   "metadata": {
    "collapsed": true
   },
   "outputs": [],
   "source": [
    "pos_data['sentiment']=len(comment_pos)*[1]"
   ]
  },
  {
   "cell_type": "code",
   "execution_count": 95,
   "metadata": {
    "collapsed": true
   },
   "outputs": [],
   "source": [
    "f=open('neg_data.txt','r')\n",
    "comment_neg=[]\n",
    "for line in f.readlines():\n",
    "    line=line.strip()\n",
    "    line=line.strip('-')\n",
    "    p=re.compile('[’!\"#$%&\\'！\\一：()*+,-./:;<=>?@[\\\\]^_`{|}~，0123456789a-zA-Z]+')\n",
    "    line=p.sub('',line)\n",
    "    comment_neg.append(\" \".join(jieba.cut(line.split(',')[0], cut_all=False)))"
   ]
  },
  {
   "cell_type": "code",
   "execution_count": 96,
   "metadata": {
    "collapsed": true
   },
   "outputs": [],
   "source": [
    "comment_all=comment_pos.copy()\n",
    "comment_all.extend(comment_neg)\n",
    "all_labels1=[1]*len(comment_pos)\n",
    "all_labels1.extend([0]*len(comment_neg))\n",
    "all_labels2=[0]*len(comment_pos)\n",
    "all_labels2.extend([1]*len(comment_neg))\n"
   ]
  },
  {
   "cell_type": "code",
   "execution_count": 97,
   "metadata": {
    "collapsed": true
   },
   "outputs": [],
   "source": [
    "all_data=pd.DataFrame()#得到一个像train.csv的dataframe,方便使用nbsvm模型\n",
    "all_data['comment']=comment_all\n",
    "all_data['pos']=all_labels1\n",
    "all_data['neg']=all_labels2"
   ]
  },
  {
   "cell_type": "code",
   "execution_count": 98,
   "metadata": {
    "collapsed": true
   },
   "outputs": [],
   "source": [
    "all_data.to_csv('stock_train.csv')"
   ]
  },
  {
   "cell_type": "code",
   "execution_count": 99,
   "metadata": {
    "collapsed": true
   },
   "outputs": [],
   "source": [
    "import numpy as np\n",
    "from sklearn.linear_model import LogisticRegression\n",
    "from sklearn.feature_extraction.text import TfidfVectorizer"
   ]
  },
  {
   "cell_type": "code",
   "execution_count": 100,
   "metadata": {
    "collapsed": true
   },
   "outputs": [],
   "source": [
    "train = pd.read_csv('stock_train.csv')"
   ]
  },
  {
   "cell_type": "code",
   "execution_count": 103,
   "metadata": {
    "collapsed": true
   },
   "outputs": [],
   "source": [
    "train=train.dropna()"
   ]
  },
  {
   "cell_type": "code",
   "execution_count": 104,
   "metadata": {
    "collapsed": true
   },
   "outputs": [],
   "source": [
    "n = train.shape[0]\n",
    "vec = TfidfVectorizer()\n",
    "trn_term_doc = vec.fit_transform(train['comment'])\n",
    "test_term_doc = vec.transform(train['comment'])"
   ]
  },
  {
   "cell_type": "code",
   "execution_count": 105,
   "metadata": {
    "collapsed": true
   },
   "outputs": [],
   "source": [
    "def pr(y_i, y):\n",
    "    p = x[y==y_i].sum(0)\n",
    "    return (p+1) / ((y==y_i).sum()+1)"
   ]
  },
  {
   "cell_type": "code",
   "execution_count": 106,
   "metadata": {
    "collapsed": true
   },
   "outputs": [],
   "source": [
    "x = trn_term_doc\n",
    "test_x = test_term_doc"
   ]
  },
  {
   "cell_type": "code",
   "execution_count": 107,
   "metadata": {
    "collapsed": true
   },
   "outputs": [],
   "source": [
    "import numpy as np\n",
    "def get_mdl(y):\n",
    "    y = y.values\n",
    "    r = np.log(pr(1,y) / pr(0,y))\n",
    "    m = LogisticRegression(C=4, dual=True)\n",
    "    x_nb = x.multiply(r)\n",
    "    return m.fit(x_nb, y), r"
   ]
  },
  {
   "cell_type": "code",
   "execution_count": 108,
   "metadata": {},
   "outputs": [
    {
     "name": "stdout",
     "output_type": "stream",
     "text": [
      "fit pos\n",
      "fit neg\n"
     ]
    }
   ],
   "source": [
    "preds = np.zeros((len(train),2))\n",
    "label_cols = ['pos', 'neg']\n",
    "for i, j in enumerate(label_cols):\n",
    "    print('fit', j)\n",
    "    m,r = get_mdl(train[j])\n",
    "    preds[:,i] = m.predict_proba(test_x.multiply(r))[:,1]"
   ]
  },
  {
   "cell_type": "code",
   "execution_count": 109,
   "metadata": {
    "collapsed": true
   },
   "outputs": [],
   "source": [
    "d=pd.DataFrame(preds)"
   ]
  },
  {
   "cell_type": "code",
   "execution_count": 113,
   "metadata": {},
   "outputs": [
    {
     "data": {
      "text/html": [
       "<div>\n",
       "<style>\n",
       "    .dataframe thead tr:only-child th {\n",
       "        text-align: right;\n",
       "    }\n",
       "\n",
       "    .dataframe thead th {\n",
       "        text-align: left;\n",
       "    }\n",
       "\n",
       "    .dataframe tbody tr th {\n",
       "        vertical-align: top;\n",
       "    }\n",
       "</style>\n",
       "<table border=\"1\" class=\"dataframe\">\n",
       "  <thead>\n",
       "    <tr style=\"text-align: right;\">\n",
       "      <th></th>\n",
       "      <th>0</th>\n",
       "      <th>1</th>\n",
       "    </tr>\n",
       "  </thead>\n",
       "  <tbody>\n",
       "    <tr>\n",
       "      <th>0</th>\n",
       "      <td>0.825307</td>\n",
       "      <td>0.174693</td>\n",
       "    </tr>\n",
       "    <tr>\n",
       "      <th>1</th>\n",
       "      <td>0.781626</td>\n",
       "      <td>0.218374</td>\n",
       "    </tr>\n",
       "    <tr>\n",
       "      <th>2</th>\n",
       "      <td>0.503193</td>\n",
       "      <td>0.496807</td>\n",
       "    </tr>\n",
       "    <tr>\n",
       "      <th>3</th>\n",
       "      <td>0.650305</td>\n",
       "      <td>0.349694</td>\n",
       "    </tr>\n",
       "    <tr>\n",
       "      <th>4</th>\n",
       "      <td>0.738683</td>\n",
       "      <td>0.261317</td>\n",
       "    </tr>\n",
       "    <tr>\n",
       "      <th>5</th>\n",
       "      <td>0.237993</td>\n",
       "      <td>0.762007</td>\n",
       "    </tr>\n",
       "    <tr>\n",
       "      <th>6</th>\n",
       "      <td>0.439486</td>\n",
       "      <td>0.560511</td>\n",
       "    </tr>\n",
       "    <tr>\n",
       "      <th>7</th>\n",
       "      <td>0.935380</td>\n",
       "      <td>0.064620</td>\n",
       "    </tr>\n",
       "    <tr>\n",
       "      <th>8</th>\n",
       "      <td>0.787717</td>\n",
       "      <td>0.212282</td>\n",
       "    </tr>\n",
       "    <tr>\n",
       "      <th>9</th>\n",
       "      <td>0.700434</td>\n",
       "      <td>0.299566</td>\n",
       "    </tr>\n",
       "    <tr>\n",
       "      <th>10</th>\n",
       "      <td>0.694452</td>\n",
       "      <td>0.305548</td>\n",
       "    </tr>\n",
       "    <tr>\n",
       "      <th>11</th>\n",
       "      <td>0.467971</td>\n",
       "      <td>0.532028</td>\n",
       "    </tr>\n",
       "    <tr>\n",
       "      <th>12</th>\n",
       "      <td>0.848925</td>\n",
       "      <td>0.151074</td>\n",
       "    </tr>\n",
       "    <tr>\n",
       "      <th>13</th>\n",
       "      <td>0.475758</td>\n",
       "      <td>0.524242</td>\n",
       "    </tr>\n",
       "    <tr>\n",
       "      <th>14</th>\n",
       "      <td>0.855097</td>\n",
       "      <td>0.144903</td>\n",
       "    </tr>\n",
       "    <tr>\n",
       "      <th>15</th>\n",
       "      <td>0.561497</td>\n",
       "      <td>0.438503</td>\n",
       "    </tr>\n",
       "    <tr>\n",
       "      <th>16</th>\n",
       "      <td>0.786850</td>\n",
       "      <td>0.213150</td>\n",
       "    </tr>\n",
       "    <tr>\n",
       "      <th>17</th>\n",
       "      <td>0.884424</td>\n",
       "      <td>0.115576</td>\n",
       "    </tr>\n",
       "    <tr>\n",
       "      <th>18</th>\n",
       "      <td>0.666765</td>\n",
       "      <td>0.333235</td>\n",
       "    </tr>\n",
       "    <tr>\n",
       "      <th>19</th>\n",
       "      <td>0.623925</td>\n",
       "      <td>0.376075</td>\n",
       "    </tr>\n",
       "    <tr>\n",
       "      <th>20</th>\n",
       "      <td>0.811416</td>\n",
       "      <td>0.188584</td>\n",
       "    </tr>\n",
       "    <tr>\n",
       "      <th>21</th>\n",
       "      <td>0.248488</td>\n",
       "      <td>0.751512</td>\n",
       "    </tr>\n",
       "    <tr>\n",
       "      <th>22</th>\n",
       "      <td>0.966875</td>\n",
       "      <td>0.033125</td>\n",
       "    </tr>\n",
       "    <tr>\n",
       "      <th>23</th>\n",
       "      <td>0.621654</td>\n",
       "      <td>0.378345</td>\n",
       "    </tr>\n",
       "    <tr>\n",
       "      <th>24</th>\n",
       "      <td>0.838353</td>\n",
       "      <td>0.161647</td>\n",
       "    </tr>\n",
       "    <tr>\n",
       "      <th>25</th>\n",
       "      <td>0.640255</td>\n",
       "      <td>0.359744</td>\n",
       "    </tr>\n",
       "    <tr>\n",
       "      <th>26</th>\n",
       "      <td>0.492865</td>\n",
       "      <td>0.507135</td>\n",
       "    </tr>\n",
       "    <tr>\n",
       "      <th>27</th>\n",
       "      <td>0.476179</td>\n",
       "      <td>0.523820</td>\n",
       "    </tr>\n",
       "    <tr>\n",
       "      <th>28</th>\n",
       "      <td>0.788168</td>\n",
       "      <td>0.211831</td>\n",
       "    </tr>\n",
       "    <tr>\n",
       "      <th>29</th>\n",
       "      <td>0.683045</td>\n",
       "      <td>0.316955</td>\n",
       "    </tr>\n",
       "    <tr>\n",
       "      <th>...</th>\n",
       "      <td>...</td>\n",
       "      <td>...</td>\n",
       "    </tr>\n",
       "    <tr>\n",
       "      <th>11678</th>\n",
       "      <td>0.508833</td>\n",
       "      <td>0.491167</td>\n",
       "    </tr>\n",
       "    <tr>\n",
       "      <th>11679</th>\n",
       "      <td>0.228608</td>\n",
       "      <td>0.771392</td>\n",
       "    </tr>\n",
       "    <tr>\n",
       "      <th>11680</th>\n",
       "      <td>0.718349</td>\n",
       "      <td>0.281651</td>\n",
       "    </tr>\n",
       "    <tr>\n",
       "      <th>11681</th>\n",
       "      <td>0.747717</td>\n",
       "      <td>0.252283</td>\n",
       "    </tr>\n",
       "    <tr>\n",
       "      <th>11682</th>\n",
       "      <td>0.263608</td>\n",
       "      <td>0.736392</td>\n",
       "    </tr>\n",
       "    <tr>\n",
       "      <th>11683</th>\n",
       "      <td>0.475697</td>\n",
       "      <td>0.524303</td>\n",
       "    </tr>\n",
       "    <tr>\n",
       "      <th>11684</th>\n",
       "      <td>0.652348</td>\n",
       "      <td>0.347651</td>\n",
       "    </tr>\n",
       "    <tr>\n",
       "      <th>11685</th>\n",
       "      <td>0.521361</td>\n",
       "      <td>0.478639</td>\n",
       "    </tr>\n",
       "    <tr>\n",
       "      <th>11686</th>\n",
       "      <td>0.101204</td>\n",
       "      <td>0.898796</td>\n",
       "    </tr>\n",
       "    <tr>\n",
       "      <th>11687</th>\n",
       "      <td>0.644757</td>\n",
       "      <td>0.355242</td>\n",
       "    </tr>\n",
       "    <tr>\n",
       "      <th>11688</th>\n",
       "      <td>0.429095</td>\n",
       "      <td>0.570905</td>\n",
       "    </tr>\n",
       "    <tr>\n",
       "      <th>11689</th>\n",
       "      <td>0.456941</td>\n",
       "      <td>0.543059</td>\n",
       "    </tr>\n",
       "    <tr>\n",
       "      <th>11690</th>\n",
       "      <td>0.322990</td>\n",
       "      <td>0.677010</td>\n",
       "    </tr>\n",
       "    <tr>\n",
       "      <th>11691</th>\n",
       "      <td>0.038046</td>\n",
       "      <td>0.961954</td>\n",
       "    </tr>\n",
       "    <tr>\n",
       "      <th>11692</th>\n",
       "      <td>0.462038</td>\n",
       "      <td>0.537962</td>\n",
       "    </tr>\n",
       "    <tr>\n",
       "      <th>11693</th>\n",
       "      <td>0.396112</td>\n",
       "      <td>0.603888</td>\n",
       "    </tr>\n",
       "    <tr>\n",
       "      <th>11694</th>\n",
       "      <td>0.456397</td>\n",
       "      <td>0.543603</td>\n",
       "    </tr>\n",
       "    <tr>\n",
       "      <th>11695</th>\n",
       "      <td>0.489536</td>\n",
       "      <td>0.510463</td>\n",
       "    </tr>\n",
       "    <tr>\n",
       "      <th>11696</th>\n",
       "      <td>0.437950</td>\n",
       "      <td>0.562050</td>\n",
       "    </tr>\n",
       "    <tr>\n",
       "      <th>11697</th>\n",
       "      <td>0.452029</td>\n",
       "      <td>0.547971</td>\n",
       "    </tr>\n",
       "    <tr>\n",
       "      <th>11698</th>\n",
       "      <td>0.698574</td>\n",
       "      <td>0.301426</td>\n",
       "    </tr>\n",
       "    <tr>\n",
       "      <th>11699</th>\n",
       "      <td>0.045446</td>\n",
       "      <td>0.954554</td>\n",
       "    </tr>\n",
       "    <tr>\n",
       "      <th>11700</th>\n",
       "      <td>0.181126</td>\n",
       "      <td>0.818874</td>\n",
       "    </tr>\n",
       "    <tr>\n",
       "      <th>11701</th>\n",
       "      <td>0.011405</td>\n",
       "      <td>0.988595</td>\n",
       "    </tr>\n",
       "    <tr>\n",
       "      <th>11702</th>\n",
       "      <td>0.373997</td>\n",
       "      <td>0.626003</td>\n",
       "    </tr>\n",
       "    <tr>\n",
       "      <th>11703</th>\n",
       "      <td>0.071031</td>\n",
       "      <td>0.928969</td>\n",
       "    </tr>\n",
       "    <tr>\n",
       "      <th>11704</th>\n",
       "      <td>0.176105</td>\n",
       "      <td>0.823895</td>\n",
       "    </tr>\n",
       "    <tr>\n",
       "      <th>11705</th>\n",
       "      <td>0.389505</td>\n",
       "      <td>0.610495</td>\n",
       "    </tr>\n",
       "    <tr>\n",
       "      <th>11706</th>\n",
       "      <td>0.312404</td>\n",
       "      <td>0.687595</td>\n",
       "    </tr>\n",
       "    <tr>\n",
       "      <th>11707</th>\n",
       "      <td>0.071003</td>\n",
       "      <td>0.928997</td>\n",
       "    </tr>\n",
       "  </tbody>\n",
       "</table>\n",
       "<p>11708 rows × 2 columns</p>\n",
       "</div>"
      ],
      "text/plain": [
       "              0         1\n",
       "0      0.825307  0.174693\n",
       "1      0.781626  0.218374\n",
       "2      0.503193  0.496807\n",
       "3      0.650305  0.349694\n",
       "4      0.738683  0.261317\n",
       "5      0.237993  0.762007\n",
       "6      0.439486  0.560511\n",
       "7      0.935380  0.064620\n",
       "8      0.787717  0.212282\n",
       "9      0.700434  0.299566\n",
       "10     0.694452  0.305548\n",
       "11     0.467971  0.532028\n",
       "12     0.848925  0.151074\n",
       "13     0.475758  0.524242\n",
       "14     0.855097  0.144903\n",
       "15     0.561497  0.438503\n",
       "16     0.786850  0.213150\n",
       "17     0.884424  0.115576\n",
       "18     0.666765  0.333235\n",
       "19     0.623925  0.376075\n",
       "20     0.811416  0.188584\n",
       "21     0.248488  0.751512\n",
       "22     0.966875  0.033125\n",
       "23     0.621654  0.378345\n",
       "24     0.838353  0.161647\n",
       "25     0.640255  0.359744\n",
       "26     0.492865  0.507135\n",
       "27     0.476179  0.523820\n",
       "28     0.788168  0.211831\n",
       "29     0.683045  0.316955\n",
       "...         ...       ...\n",
       "11678  0.508833  0.491167\n",
       "11679  0.228608  0.771392\n",
       "11680  0.718349  0.281651\n",
       "11681  0.747717  0.252283\n",
       "11682  0.263608  0.736392\n",
       "11683  0.475697  0.524303\n",
       "11684  0.652348  0.347651\n",
       "11685  0.521361  0.478639\n",
       "11686  0.101204  0.898796\n",
       "11687  0.644757  0.355242\n",
       "11688  0.429095  0.570905\n",
       "11689  0.456941  0.543059\n",
       "11690  0.322990  0.677010\n",
       "11691  0.038046  0.961954\n",
       "11692  0.462038  0.537962\n",
       "11693  0.396112  0.603888\n",
       "11694  0.456397  0.543603\n",
       "11695  0.489536  0.510463\n",
       "11696  0.437950  0.562050\n",
       "11697  0.452029  0.547971\n",
       "11698  0.698574  0.301426\n",
       "11699  0.045446  0.954554\n",
       "11700  0.181126  0.818874\n",
       "11701  0.011405  0.988595\n",
       "11702  0.373997  0.626003\n",
       "11703  0.071031  0.928969\n",
       "11704  0.176105  0.823895\n",
       "11705  0.389505  0.610495\n",
       "11706  0.312404  0.687595\n",
       "11707  0.071003  0.928997\n",
       "\n",
       "[11708 rows x 2 columns]"
      ]
     },
     "execution_count": 113,
     "metadata": {},
     "output_type": "execute_result"
    }
   ],
   "source": [
    "d"
   ]
  },
  {
   "cell_type": "code",
   "execution_count": 110,
   "metadata": {
    "collapsed": true
   },
   "outputs": [],
   "source": [
    "l=[]\n",
    "for i in range(len(d[0])):\n",
    "    if d[0][i]-d[1][i]=0.2:\n",
    "        l.append(1)\n",
    "    else:\n",
    "        l.append(0)"
   ]
  },
  {
   "cell_type": "code",
   "execution_count": 111,
   "metadata": {
    "collapsed": true
   },
   "outputs": [],
   "source": [
    "train1=train['neg'].tolist()"
   ]
  },
  {
   "cell_type": "code",
   "execution_count": 112,
   "metadata": {},
   "outputs": [
    {
     "name": "stdout",
     "output_type": "stream",
     "text": [
      "0.1562179706183806\n"
     ]
    }
   ],
   "source": [
    "count=0\n",
    "for i in range(len(d[0])):\n",
    "    if l[i]==train1[i]:\n",
    "        count=count+1\n",
    "print(count/len(d[0]))              "
   ]
  },
  {
   "cell_type": "code",
   "execution_count": null,
   "metadata": {
    "collapsed": true
   },
   "outputs": [],
   "source": [
    "积极情感得分总和/人数=每天积极情绪得分"
   ]
  }
 ],
 "metadata": {
  "kernelspec": {
   "display_name": "Python 3",
   "language": "python",
   "name": "python3"
  },
  "language_info": {
   "codemirror_mode": {
    "name": "ipython",
    "version": 3
   },
   "file_extension": ".py",
   "mimetype": "text/x-python",
   "name": "python",
   "nbconvert_exporter": "python",
   "pygments_lexer": "ipython3",
   "version": "3.6.3"
  }
 },
 "nbformat": 4,
 "nbformat_minor": 2
}
